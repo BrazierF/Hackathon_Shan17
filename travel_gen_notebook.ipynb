{
 "cells": [
  {
   "cell_type": "code",
   "execution_count": 201,
   "metadata": {
    "collapsed": true
   },
   "outputs": [],
   "source": [
    "import numpy as np\n",
    "import matplotlib.pyplot as plt\n",
    "import time as time"
   ]
  },
  {
   "cell_type": "code",
   "execution_count": 60,
   "metadata": {
    "collapsed": true
   },
   "outputs": [],
   "source": [
    "class Activity: #activity\n",
    "    #constructor    \n",
    "    def __init__(self, name='',x=0.0, y=0.0,s=0.0):\n",
    "        \n",
    "        #name\n",
    "        self.name = name\n",
    "        \n",
    "        #position\n",
    "        self.x_coord = x #x coordinate\n",
    "        self.y_coord = y #y coordinate\n",
    "        \n",
    "        #score\n",
    "        self.score = s\n",
    "\n",
    "        \n",
    "    def distance(self,b):\n",
    "        return np.sqrt( np.square(self.x_coord-b.x_coord) + np.square(self.y_coord-b.y_coord))"
   ]
  },
  {
   "cell_type": "code",
   "execution_count": 211,
   "metadata": {
    "collapsed": false
   },
   "outputs": [],
   "source": [
    "class Journey:\n",
    "    \n",
    "    #constructor\n",
    "    def __init__(self, idty=0, act=[]):\n",
    "        self.idty=idty\n",
    "        self.activities = act\n",
    "        self.tour = range(len(act))\n",
    "        self.tour_distance = 0.0\n",
    "        self.score = 0.0\n",
    "        self.nb_eval_dist=0\n",
    "        \n",
    "    def compute_score(self):\n",
    "        return 0.0\n",
    "    \n",
    "    #remove one activity\n",
    "    def remove(self, act):\n",
    "        return\n",
    "    \n",
    "    #add one activity\n",
    "    def insert(self, act):\n",
    "        \n",
    "        n=len(self.activities) #total number of activities currently in the journey\n",
    "        \n",
    "        if (n==0):\n",
    "            self.tour.append(0)\n",
    "            self.activities.append(act)\n",
    "            return\n",
    "        \n",
    "        else:\n",
    "        \n",
    "            #activity act is inserted at the end of self.activities list\n",
    "            #in the tour, we perform a least costly insertion\n",
    "            \n",
    "            #compute least costly insertion\n",
    "            best_insertion = 1\n",
    "            best_insertion_cost = np.inf\n",
    "            for i in range(1,n+1):\n",
    "                #compute improvement if (act) is inserted at position i\n",
    "                insertion_cost = self.activities[self.tour[(i-1) %n]].distance(act) + self.activities[self.tour[i%n]].distance(act) - self.activities[self.tour[(i-1)%n]].distance(self.activities[(self.tour[i%n])]) \n",
    "                self.nb_eval_dist = self.nb_eval_dist+3\n",
    "                \n",
    "                if(insertion_cost < best_insertion_cost):\n",
    "                    best_insertion = i\n",
    "                    best_insertion_cost = insertion_cost\n",
    "        \n",
    "            #insert at best position\n",
    "            self.tour.insert(best_insertion,n)\n",
    "            #print 'Inserted', n, 'at position', best_insertion\n",
    "            self.tour_distance = self.tour_distance+best_insertion_cost\n",
    "            self.activities.append(act)\n",
    "        \n",
    "        return\n",
    "    \n",
    "    #replace activity1 by activity2\n",
    "    def replace(self, act1, act2):\n",
    "        \n",
    "        self.remove(act1)\n",
    "        self.insert(act2)\n",
    "        n=len(self.activities)\n",
    "        return\n",
    "    \n",
    "        #first, find act1's index and position in the tour\n",
    "        act1_idx = 0\n",
    "        act1_pos = 0\n",
    "        for i in range(n):\n",
    "            if self.activities[i]==act1:\n",
    "                act1_idx = i\n",
    "            if self.activities[tour[i]] ==act1:\n",
    "                act1_pos = i\n",
    "        \n",
    "        print act1_idx, act1_pos\n",
    "        \n",
    "        #then, remove it from the tour\n",
    "        tour_variation = - self.activities[self.tour[(act1_pos-1) %n]].distance(act1) - self.activities[self.tour[(act1_pos+1)%n]].distance(act1) + self.activities[self.tour[(act1_pos-1)%n]].distance(self.activities[(self.tour[(act1_pos+1)%n])]) \n",
    "        self.tour_distance = self.tour_distance + tour_improvement\n",
    "        self.tour.remove(act1_pos)\n",
    "        \n",
    "        #replace act1 by act2 in the list of activities\n",
    "        self.activities[act1_idx] = act2\n",
    "        \n",
    "        \n",
    "        #compute least costly insertion\n",
    "        best_insertion = 1\n",
    "        best_insertion_cost = np.inf\n",
    "        for i in range(1,n+1):\n",
    "            #compute improvement if (act) is inserted at position i\n",
    "            insertion_cost = self.activities[self.tour[(i-1) %n]].distance(act2) + self.activities[self.tour[i%n]].distance(act2) - self.activities[self.tour[(i-1)%n]].distance(self.activities[(self.tour[i%n])]) \n",
    "            self.nb_eval_dist = self.nb_eval_dist+3\n",
    "              \n",
    "            if(insertion_cost < best_insertion_cost):\n",
    "                best_insertion = i\n",
    "                best_insertion_cost = insertion_cost\n",
    "        \n",
    "        #insert at best position\n",
    "        self.tour.insert(best_insertion,act1_idx)\n",
    "        #print 'Inserted', n, 'at position', best_insertion\n",
    "        self.tour_distance = self.tour_distance+best_insertion_cost\n",
    "        return\n",
    "        \n",
    "    def two_opt(self):\n",
    "        return\n",
    "        "
   ]
  },
  {
   "cell_type": "code",
   "execution_count": 208,
   "metadata": {
    "collapsed": false
   },
   "outputs": [
    {
     "name": "stdout",
     "output_type": "stream",
     "text": [
      "initial number of activities 0\n"
     ]
    },
    {
     "data": {
      "image/png": "[encoded data removed]",
      "text/plain": [
       "<matplotlib.figure.Figure at 0x8f4b5f8>"
      ]
     },
     "metadata": {},
     "output_type": "display_data"
    },
    {
     "name": "stdout",
     "output_type": "stream",
     "text": [
      "0.0\n",
      "[0, 4, 3, 2, 1]\n",
      "30\n"
     ]
    }
   ],
   "source": [
    "N=5\n",
    "l=[None]*N\n",
    "\n",
    "journey = Journey(0,[])\n",
    "\n",
    "print 'initial number of activities', len(journey.activities)\n",
    "x=[]\n",
    "y=[]\n",
    "start=time.time()\n",
    "\n",
    "for i in range(N):\n",
    "    a=Activity('',np.random.rand(), np.random.rand())\n",
    "    x.append(a.x_coord)\n",
    "    y.append(a.y_coord)\n",
    "    l[i]=a\n",
    "    journey.insert(a)\n",
    "    \n",
    "end=time.time()\n",
    "\n",
    "for i in range(N):\n",
    "    x[i]=journey.activities[journey.tour[i]].x_coord\n",
    "    y[i]=journey.activities[journey.tour[i]].y_coord    \n",
    "    \n",
    "plt.plot(x,y,'o-')\n",
    "plt.axis([0,1,0,1])\n",
    "plt.show()\n",
    "\n",
    "b=Activity('',np.random.rand(), np.random.rand())\n",
    "journey.replace(a,b)\n",
    "\n",
    "for i in range(N):\n",
    "    x[i]=journey.activities[journey.tour[i]].x_coord\n",
    "    y[i]=journey.activities[journey.tour[i]].y_coord    \n",
    "    \n",
    "plt.plot(x,y,'o-')\n",
    "plt.axis([0,1,0,1])\n",
    "plt.show()\n",
    "\n",
    "print end-start\n",
    "print journey.tour\n",
    "print journey.nb_eval_dist\n",
    "del journey"
   ]
  },
  {
   "cell_type": "code",
   "execution_count": 67,
   "metadata": {
    "collapsed": false
   },
   "outputs": [
    {
     "data": {
      "text/plain": [
       "0"
      ]
     },
     "execution_count": 67,
     "metadata": {},
     "output_type": "execute_result"
    }
   ],
   "source": [
    "-1%1"
   ]
  },
  {
   "cell_type": "code",
   "execution_count": null,
   "metadata": {
    "collapsed": false
   },
   "outputs": [],
   "source": [
    "def journey_optimizer_master(activity_sets, #list of tuples (activity set, n_min, n_max)\n",
    "                      dur_min=0.0,\n",
    "                      dur_max=np.inf, #max journey duration\n",
    "                      dist_min=0.0,\n",
    "                      dist_max=np.inf, #max travel distance\n",
    "                      t_solve_max=1.0, #maximum time allowed for solving\n",
    "                      n_best=1\n",
    "                        ): \n",
    "\n",
    "    n = activities.size() #number of activity types\n",
    "    N_max_exhaustive = 10000 #max number of travels for exhaustive search\n",
    "    n_tot = 1\n",
    "    for k in range(n):\n",
    "        n_tot = n_tot * len( activity_sets[k][0])\n",
    "        if(n_tot > N_max_exhaustive):\n",
    "            break\n",
    "    \n",
    "    if(n_tot <N_max_exhaustive): #maximum number of journeys is less than 10000\n",
    "        #perform exhaustive search\n",
    "        best_journeys = journey_optimizer_slave_exhaustive(activity_sets,n_tot,n_best)\n",
    "        \n",
    "    else:\n",
    "        0.0\n",
    "    \n",
    "    return best_journeys"
   ]
  },
  {
   "cell_type": "code",
   "execution_count": null,
   "metadata": {
    "collapsed": false
   },
   "outputs": [],
   "source": [
    "def journey_optimizer_slave_exhaustive(activity_sets,n_tot,n_best): \n",
    "\n",
    "    n = activities.size() #number of activity types\n",
    "    \n",
    "    index=np.zeros(n)\n",
    "    count = 0\n",
    "    act=[None] * n #create empty set of activities\n",
    "    for i in range(n):\n",
    "        act[i]=(activity_sets[0][0][0])\n",
    "    \n",
    "    #create initial journey (will be modified iteratively)\n",
    "    journey=Journey(act)\n",
    "    current_score=0.0\n",
    "    \n",
    "    best_journeys=[None]*5\n",
    "    \n",
    "    while(count < n_tot):\n",
    "        \n",
    "        #compute current journey's score\n",
    "        current_score = journey.score()\n",
    "        \n",
    "        \n",
    "        count = count+1\n",
    "        if(count >= n_tot):\n",
    "            break\n",
    "        else:\n",
    "            #update indexes and journey\n",
    "    \n",
    "    return best_journeys"
   ]
  },
  {
   "cell_type": "code",
   "execution_count": null,
   "metadata": {
    "collapsed": false
   },
   "outputs": [],
   "source": [
    "act=[None] *10\n",
    "for i in range(10):\n",
    "    act[i]=True\n",
    "    \n",
    "act"
   ]
  },
  {
   "cell_type": "code",
   "execution_count": null,
   "metadata": {
    "collapsed": false
   },
   "outputs": [],
   "source": [
    "def tsp_distance(activities):\n",
    "    \n",
    "    n=len(activities)\n",
    "    d=0.0\n",
    "    \n",
    "    #construct distance matrix\n",
    "    dist=np.zeros((n,n))\n",
    "    close_neighbours=np.zeros((n,n))\n",
    "    \n",
    "    for i in range(n):\n",
    "        \n",
    "        for j in range(i+1,n):\n",
    "            #dist[i,j] = np.sqrt( np.square(activities[i].x_coord-activities[j].x_coord) + np.square(activities[i].y_coord-activities[j].y_coord))\n",
    "            dist[i,j] = activities[i].distance[activities[j]]\n",
    "            dist[j,i] = dist[i,j]\n",
    "    for i in range(n):\n",
    "        close_distance = np.inf #initialize closeest neighbours as being at distance of + Infty\n",
    "        for j in range(n):\n",
    "            if(i !=j ):\n",
    "                if (dist[i,j] < close_distance):\n",
    "                    close_neighbours[i]=j\n",
    "                    close_distance = dist[i,j]\n",
    "   \n",
    "    #start with greedy insertion\n",
    "    tour_idx=np.zeros(n)\n",
    "    for i in range(n):\n",
    "        tour_idx = close_neighbours[tour_idx[i]]\n",
    "    \n",
    "    #apply 2-opt post-optimization\n",
    "    \n",
    "    #compute tour\n",
    "    tour=activities\n",
    "    for i in range(n):\n",
    "        tour[i] = activities[tour_idx[i]]\n",
    "    return (d,tour)"
   ]
  }
 ],
 "metadata": {
  "anaconda-cloud": {},
  "kernelspec": {
   "display_name": "Python [default]",
   "language": "python",
   "name": "python2"
  },
  "language_info": {
   "codemirror_mode": {
    "name": "ipython",
    "version": 2
   },
   "file_extension": ".py",
   "mimetype": "text/x-python",
   "name": "python",
   "nbconvert_exporter": "python",
   "pygments_lexer": "ipython2",
   "version": "2.7.12"
  }
 },
 "nbformat": 4,
 "nbformat_minor": 1
}
